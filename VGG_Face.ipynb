{
  "nbformat": 4,
  "nbformat_minor": 0,
  "metadata": {
    "colab": {
      "name": "VGG_Face.ipynb",
      "version": "0.3.2",
      "provenance": [],
      "collapsed_sections": [],
      "include_colab_link": true
    },
    "kernelspec": {
      "name": "python3",
      "display_name": "Python 3"
    },
    "accelerator": "TPU"
  },
  "cells": [
    {
      "cell_type": "markdown",
      "metadata": {
        "id": "view-in-github",
        "colab_type": "text"
      },
      "source": [
        "<a href=\"https://colab.research.google.com/github/Maupin1991/vgg_face_tensorflow/blob/master/VGG_Face.ipynb\" target=\"_parent\"><img src=\"https://colab.research.google.com/assets/colab-badge.svg\" alt=\"Open In Colab\"/></a>"
      ]
    },
    {
      "metadata": {
        "id": "mxjAwiG6_NDJ",
        "colab_type": "code",
        "colab": {}
      },
      "cell_type": "code",
      "source": [
        "from google.colab import drive\n",
        "drive.mount('/gdrive')\n",
        "import os"
      ],
      "execution_count": 0,
      "outputs": []
    },
    {
      "metadata": {
        "id": "uz7g6T2Y_NEq",
        "colab_type": "code",
        "colab": {}
      },
      "cell_type": "code",
      "source": [
        "names_fpath = '/gdrive/My Drive/colab_data/names.txt'\n",
        "\n",
        "\n",
        "class NameLookup:\n",
        "    def __init__(self):\n",
        "        self._uid_to_name = {}\n",
        "        self._cls_to_uid = {}\n",
        "\n",
        "        self.path = names_fpath\n",
        "        with open(self.path, 'r') as f:\n",
        "            lines = f.readlines()\n",
        "            for line in lines:\n",
        "                uid, name = line.split()\n",
        "                self._uid_to_name[uid] = name\n",
        "                self._cls_to_uid[uid] = uid\n",
        "\n",
        "    def uid_to_name(self, uid):\n",
        "        return self._uid_to_name[uid].replace('_', ' ')\n",
        "\n",
        "    def cls_to_name(self, cls):\n",
        "        # todo test this\n",
        "        return self._uid_to_name[self._cls_to_uid[cls]]\n"
      ],
      "execution_count": 0,
      "outputs": []
    },
    {
      "metadata": {
        "id": "28zTpYS7_oKq",
        "colab_type": "code",
        "colab": {}
      },
      "cell_type": "code",
      "source": [
        "import tensorflow as tf\n",
        "import numpy as np\n",
        "import matplotlib.pyplot as plt\n",
        "from skimage.transform import resize\n",
        "from skimage import io\n",
        "\n",
        "model_path = '/gdrive/My Drive/colab_data/vggface16.tfmodel'\n",
        "\n",
        "\n",
        "class VGGFace():\n",
        "\n",
        "    def __init__(self):\n",
        "        self._name_lookup = NameLookup()\n",
        "        self._graph = tf.Graph()\n",
        "        self._model_path = model_path\n",
        "\n",
        "        with self._graph.as_default():\n",
        "            with tf.gfile.FastGFile(self._model_path, 'rb') as f:\n",
        "                graph_def = tf.GraphDef()\n",
        "                graph_def.ParseFromString(f.read())\n",
        "                tf.import_graph_def(graph_def,\n",
        "                                    input_map={\n",
        "                                        \"images\": tf.placeholder(\n",
        "                                            tf.float32,\n",
        "                                            shape=(None, 224, 224, 3),\n",
        "                                            name='import/images')})\n",
        "\n",
        "            self._y_pred = self._graph.get_tensor_by_name('import/prob:0')\n",
        "            self._y_logits = self._graph.get_tensor_by_name('import/fc8/BiasAdd:0')\n",
        "            self._resized_image = self._graph.get_tensor_by_name('import/images:0')\n",
        "\n",
        "            self._session = tf.Session(graph=self._graph)\n",
        "\n",
        "    def close(self):\n",
        "        self._session.close()\n",
        "        \n",
        "    def _create_feed_dict(self, image=None, image_path=None, image_url=None):\n",
        "        \n",
        "        if image_path is not None:\n",
        "            image = plt.imread(image_path)\n",
        "        \n",
        "        elif image_url is not None:\n",
        "            image = io.imread(image_url)\n",
        "        \n",
        "        if image is not None:\n",
        "            image = resize(image, (224, 224))\n",
        "            image = image.reshape((1, 224, 224, 3))\n",
        "            \n",
        "            feed_dict = {\"import/images:0\": image}\n",
        "        else:\n",
        "            raise ValueError(\"Either image, image_path or image_url \" +\n",
        "                             \"must be set.\")\n",
        "        return feed_dict\n",
        "    \n",
        "    def classify(self, **kwargs):\n",
        "        feed_dict = self._create_feed_dict(**kwargs)\n",
        "        pred = self._session.run(self._y_pred, feed_dict = feed_dict)\n",
        "        pred = np.squeeze(pred)\n",
        "        return pred\n",
        "    \n",
        "    def print_scores(self, pred, k=10):\n",
        "        idx = pred.argsort()\n",
        "        top_k = idx[-k:]\n",
        "        for clss in reversed(top_k):\n",
        "            name = self._name_lookup.cls_to_name(cls=str(clss))\n",
        "            score = pred[clss]\n",
        "            print(\"{0:>6.2%} : {1}\".format(score, name))\n",
        "        "
      ],
      "execution_count": 0,
      "outputs": []
    },
    {
      "metadata": {
        "id": "izVpxB4jA5nq",
        "colab_type": "code",
        "colab": {}
      },
      "cell_type": "code",
      "source": [
        "image_url = \"https://argomenti.ilsole24ore.com/Immagini/Editrice/ILSOLE24ORE/ARGOMENTI/Online/Persone/Immagini/Imprenditori/steve-jobs.jpg\" #@param {type:\"string\"}\n",
        "\n",
        "model = VGGFace()\n",
        "pred = model.classify(image_url=image_url)\n",
        "model.print_scores(pred, k=3)\n",
        "model.close()\n",
        "\n",
        "%matplotlib inline\n",
        "plt.imshow(io.imread(image_url))\n",
        "plt.grid('off')\n",
        "plt.show()"
      ],
      "execution_count": 0,
      "outputs": []
    },
    {
      "metadata": {
        "id": "KAsOOifG3una",
        "colab_type": "text"
      },
      "cell_type": "markdown",
      "source": [
        "[Easter Egg](http://www.wikicu.com/Adam_Goldberg)\n",
        "\n",
        "Try This image_url: 'https://www.thehindu.com/news/international/f4t4xz/article24464654.ece/alternates/FREE_300/20TH-ZUCKERBERG'"
      ]
    }
  ]
}